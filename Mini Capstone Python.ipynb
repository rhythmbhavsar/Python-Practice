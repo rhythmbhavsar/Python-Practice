{
 "cells": [
  {
   "cell_type": "markdown",
   "id": "af3241e4",
   "metadata": {},
   "source": [
    "##  Write a function named ‘MulTable(n)’ that takes one positive  integer ‘n’ as its parameter and prints out the multiplication table up until number 10 for all the numbers starting from the number 2  and till the integer ‘n’."
   ]
  },
  {
   "cell_type": "code",
   "execution_count": 1,
   "id": "f46ca12f",
   "metadata": {},
   "outputs": [
    {
     "name": "stdout",
     "output_type": "stream",
     "text": [
      "2 x 1 = 2   3 x 1 = 3   4 x 1 = 4    \n",
      "2 x 2 = 4   3 x 2 = 6   4 x 2 = 8    \n",
      "2 x 3 = 6   3 x 3 = 9   4 x 3 = 12    \n",
      "2 x 4 = 8   3 x 4 = 12   4 x 4 = 16    \n",
      "2 x 5 = 10   3 x 5 = 15   4 x 5 = 20    \n",
      "2 x 6 = 12   3 x 6 = 18   4 x 6 = 24    \n",
      "2 x 7 = 14   3 x 7 = 21   4 x 7 = 28    \n",
      "2 x 8 = 16   3 x 8 = 24   4 x 8 = 32    \n",
      "2 x 9 = 18   3 x 9 = 27   4 x 9 = 36    \n",
      "2 x 10 = 20   3 x 10 = 30   4 x 10 = 40    \n"
     ]
    }
   ],
   "source": [
    "def MulTable(n):\n",
    "    for i in range(1, 11):\n",
    "        for j in range(2, n+1):\n",
    "            print(j, 'x', i, '=', j*i,' ', end=' ')\n",
    "        print(' ')\n",
    "        \n",
    "MulTable(4)"
   ]
  },
  {
   "cell_type": "code",
   "execution_count": null,
   "id": "66436f9a",
   "metadata": {},
   "outputs": [],
   "source": []
  },
  {
   "cell_type": "markdown",
   "id": "e78f44e6",
   "metadata": {},
   "source": [
    "## Create a class StringManipulation that receives a list of words wlist at the time of object creation. The class must have the following methods:\n",
    "\n",
    " \n",
    "\n",
    "1. Words_of_length(length): returns a list of all the words of length length in wlist.\n",
    "\n",
    "2. Words_starts_with(char): returns a list of all the words that start with char in wlist.\n",
    "\n",
    "3. Words_ends_with(char): returns a list of all the words that end with char in wlist.\n",
    "\n",
    "4. Palindromes: returns a list of all the words that are palindromes in wlist.\n",
    "\n",
    "5. Total_words: returns the number of words in wlist.\n",
    "\n",
    "6. Longest_word: that returns the longest length word in wlist. if list wlist has more than one longest word then return the first one.\n",
    "\n",
    "7. Smallest_word: that returns the smallest length word in wlist. if list wlist has more than one smallest word then return the first one.\n",
    "\n",
    "8. Count(word): that returns the total number of occurrences of word in wlist."
   ]
  },
  {
   "cell_type": "code",
   "execution_count": 2,
   "id": "e1e3c4d6",
   "metadata": {},
   "outputs": [
    {
     "name": "stdout",
     "output_type": "stream",
     "text": [
      "List of all the words of length 5 in wlist ['Akash', 'Akash', 'nayan']\n",
      "List of all the words that start with A in wlist ['Akash', 'Akash', 'akshat']\n",
      "List of all the words that end with L in wlist ['Nikhil']\n",
      "List of all the words that are palindromes in wlist ['nayan']\n",
      "The number of words in wlist are 7\n",
      "The longest length word in wlist is Manjeet\n",
      "The smallest length word in wlist is om\n",
      "The total number of occurrences of Akash in wlist is 2\n"
     ]
    }
   ],
   "source": [
    "class StringManipulatio:\n",
    "    \n",
    "    def __init__(self, wlist):\n",
    "        self.wlist = wlist\n",
    "\n",
    "    def Words_of_length(self, length):\n",
    "        lst = []\n",
    "        for i in self.wlist:\n",
    "            if(len(i) == length):\n",
    "                lst.append(i)\n",
    "        return lst\n",
    "     \n",
    "    def Words_starts_with(self, latter): \n",
    "        res = [idx for idx in self.wlist if idx.lower().startswith(latter.lower())]\n",
    "        return res\n",
    "        \n",
    "    def Words_ends_with(self, latter): \n",
    "        res = [idx for idx in self.wlist if idx.lower().endswith(latter.lower())]\n",
    "        return res\n",
    "        \n",
    "    def Palindromes(self):\n",
    "        pld = []\n",
    "        for str in self.wlist:\n",
    "            w = \"\"\n",
    "            for i in str:\n",
    "                w = i + w\n",
    "\n",
    "            if (str == w):\n",
    "                pld.append(str)\n",
    "        return pld\n",
    "        \n",
    "        \n",
    "    def Total_words(self):\n",
    "        return len(self.wlist)\n",
    "        \n",
    "        \n",
    "    def Longest_word(self):\n",
    "        max1 = len(self.wlist[0])\n",
    "        temp = self.wlist[0]\n",
    "\n",
    "        # for loop to traverse the list\n",
    "        for i in self.wlist:\n",
    "            if(len(i) > max1):\n",
    "\n",
    "                max1 = len(i)\n",
    "                temp = i\n",
    "        return temp\n",
    "        \n",
    "    def Smallest_word(self):\n",
    "        max1 = len(self.wlist[0])\n",
    "        temp = self.wlist[0]\n",
    "\n",
    "        # for loop to traverse the list\n",
    "        for i in self.wlist:\n",
    "            if(len(i) < max1):\n",
    "\n",
    "                max1 = len(i)\n",
    "                temp = i\n",
    "        return temp\n",
    "        \n",
    "    def Count(self, n):\n",
    "            count=0\n",
    "            for i in self.wlist:\n",
    "                if(i==n):\n",
    "                    count=count+1\n",
    "            return count\n",
    "  \n",
    "\n",
    "\n",
    "list = ['Akash','Akash', 'Nikhil', 'Manjeet', 'akshat', 'nayan', 'om']\n",
    "\n",
    "################################## Calling objects #################################\n",
    "\n",
    "\n",
    "print(\"List of all the words of length 5 in wlist\",StringManipulatio(list).Words_of_length(5))\n",
    "print(\"List of all the words that start with A in wlist\", StringManipulatio(list).Words_starts_with('A'))\n",
    "print(\"List of all the words that end with L in wlist\",StringManipulatio(list).Words_ends_with('l'))\n",
    "print(\"List of all the words that are palindromes in wlist\",StringManipulatio(list).Palindromes())\n",
    "print(\"The number of words in wlist are\",StringManipulatio(list).Total_words())\n",
    "print(\"The longest length word in wlist is\",StringManipulatio(list).Longest_word())\n",
    "print(\"The smallest length word in wlist is\",StringManipulatio(list).Smallest_word())\n",
    "print(\"The total number of occurrences of Akash in wlist is\",StringManipulatio(list).Count('Akash'))\n"
   ]
  },
  {
   "cell_type": "code",
   "execution_count": null,
   "id": "d8c3d282",
   "metadata": {},
   "outputs": [],
   "source": []
  },
  {
   "cell_type": "markdown",
   "id": "ee868936",
   "metadata": {},
   "source": [
    "## Write a program to perform pearsion corelation"
   ]
  },
  {
   "cell_type": "code",
   "execution_count": 3,
   "id": "399c26ff",
   "metadata": {},
   "outputs": [
    {
     "name": "stdout",
     "output_type": "stream",
     "text": [
      "0.9\n"
     ]
    }
   ],
   "source": [
    "\n",
    "from scipy.stats import pearsonr\n",
    "\n",
    "l1 = [1,2,3,4,5,6,7,8,9]\n",
    "l2 = [1,2,3,2,3,4,3,4,5]\n",
    "def pearson_correlatio(x, y):\n",
    "    if(len(x) == len(y)):\n",
    "        corr, _= pearsonr(x, y)\n",
    "        return print('%.1f' % corr)\n",
    "    else:\n",
    "        return 0\n",
    "\n",
    "pearson_correlatio(l1,l2)"
   ]
  },
  {
   "cell_type": "code",
   "execution_count": null,
   "id": "d976a9d5",
   "metadata": {},
   "outputs": [],
   "source": []
  },
  {
   "attachments": {
    "image.png": {
     "image/png": "[encoded data removed]"
    }
   },
   "cell_type": "markdown",
   "id": "3f504afb",
   "metadata": {},
   "source": [
    "![image.png](attachment:image.png)"
   ]
  },
  {
   "cell_type": "code",
   "execution_count": 4,
   "id": "e0e87789",
   "metadata": {},
   "outputs": [
    {
     "name": "stdout",
     "output_type": "stream",
     "text": [
      "Enter X Pattern Odd Rows = 15\n",
      "***************\n",
      "**     *     **\n",
      "* *    *    * *\n",
      "*  *   *   *  *\n",
      "*   *  *  *   *\n",
      "*    * * *    *\n",
      "*     ***     *\n",
      "***************\n",
      "*     ***     *\n",
      "*    * * *    *\n",
      "*   *  *  *   *\n",
      "*  *   *   *  *\n",
      "* *    *    * *\n",
      "**     *     **\n",
      "***************\n"
     ]
    }
   ],
   "source": [
    "rows = int(input(\"Enter X Pattern Odd Rows = \"))\n",
    "\n",
    "for i in range(0, rows):\n",
    "    for j in range(0, rows):\n",
    "        if(i == 0 or j== rows-1 or i == j or j==0 or i==(rows-1)/2  or i==rows-1 or j==(rows-1)/2) or i == (rows-1)-j  :\n",
    "            print('*', end = '')\n",
    "        else:\n",
    "            print(' ', end = '')\n",
    "    print()"
   ]
  },
  {
   "cell_type": "code",
   "execution_count": null,
   "id": "17d2f69b",
   "metadata": {},
   "outputs": [],
   "source": []
  },
  {
   "cell_type": "markdown",
   "id": "b9e1a936",
   "metadata": {},
   "source": [
    "## Write a program that accepts string from the user that contains (,),[,],{ and }"
   ]
  },
  {
   "cell_type": "code",
   "execution_count": 5,
   "id": "7b1ad07d",
   "metadata": {},
   "outputs": [
    {
     "name": "stdout",
     "output_type": "stream",
     "text": [
      "{abc(ddd)ee[ff()dd]er} - True\n",
      "(jhd)[}dsg)ds(] - False\n"
     ]
    }
   ],
   "source": [
    "def check(myStr):\n",
    "    \n",
    "    open_list = [\"[\",\"{\",\"(\"]\n",
    "    close_list = [\"]\",\"}\",\")\"]\n",
    "\n",
    "    stack = []\n",
    "    for i in myStr:\n",
    "        if i in open_list:\n",
    "            stack.append(i)\n",
    "        elif i in close_list:\n",
    "            pos = close_list.index(i)\n",
    "            if ((len(stack) > 0) and\n",
    "                (open_list[pos] == stack[len(stack)-1])):\n",
    "                stack.pop()\n",
    "            else:\n",
    "                return False\n",
    "    if len(stack) == 0:\n",
    "        return True\n",
    "    else:\n",
    "        return False\n",
    "\n",
    "\n",
    "string = \"{abc(ddd)ee[ff()dd]er}\"\n",
    "print(string,\"-\", check(string))\n",
    "\n",
    "\n",
    "string = \"(jhd)[}dsg)ds(]\"\n",
    "print(string,\"-\", check(string))"
   ]
  },
  {
   "cell_type": "code",
   "execution_count": null,
   "id": "d66385b1",
   "metadata": {},
   "outputs": [],
   "source": []
  }
 ],
 "metadata": {
  "kernelspec": {
   "display_name": "Python 3 (ipykernel)",
   "language": "python",
   "name": "python3"
  },
  "language_info": {
   "codemirror_mode": {
    "name": "ipython",
    "version": 3
   },
   "file_extension": ".py",
   "mimetype": "text/x-python",
   "name": "python",
   "nbconvert_exporter": "python",
   "pygments_lexer": "ipython3",
   "version": "3.9.7"
  }
 },
 "nbformat": 4,
 "nbformat_minor": 5
}
